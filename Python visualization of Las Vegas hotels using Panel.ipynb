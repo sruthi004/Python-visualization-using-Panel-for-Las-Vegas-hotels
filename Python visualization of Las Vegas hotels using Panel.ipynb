{
 "cells": [
  {
   "cell_type": "markdown",
   "id": "3dcb7ce7",
   "metadata": {},
   "source": [
    "## Python Visualization"
   ]
  },
  {
   "cell_type": "markdown",
   "id": "b25d02fd",
   "metadata": {},
   "source": [
    "### Data Analysis"
   ]
  },
  {
   "cell_type": "code",
   "execution_count": 130,
   "id": "70b167ae",
   "metadata": {},
   "outputs": [],
   "source": [
    "# Imports\n",
    "import pandas as pd\n",
    "import numpy as np\n",
    "import panel as pn\n",
    "pn.extension('tabulator')\n",
    "\n",
    "import hvplot.pandas"
   ]
  },
  {
   "cell_type": "code",
   "execution_count": 131,
   "id": "8a6361f2",
   "metadata": {},
   "outputs": [
    {
     "name": "stdout",
     "output_type": "stream",
     "text": [
      "<class 'pandas.core.frame.DataFrame'>\n",
      "RangeIndex: 504 entries, 0 to 503\n",
      "Data columns (total 20 columns):\n",
      " #   Column                   Non-Null Count  Dtype \n",
      "---  ------                   --------------  ----- \n",
      " 0   User_country             504 non-null    object\n",
      " 1   Number_of_reviews        504 non-null    int64 \n",
      " 2   Number_of_hotel_reviews  504 non-null    int64 \n",
      " 3   Helpful_votes            504 non-null    int64 \n",
      " 4   Score                    504 non-null    int64 \n",
      " 5   Period_of_stay           504 non-null    object\n",
      " 6   Traveler_type            504 non-null    object\n",
      " 7   Pool                     504 non-null    object\n",
      " 8   Gym                      504 non-null    object\n",
      " 9   Tennis_court             504 non-null    object\n",
      " 10  Spa                      504 non-null    object\n",
      " 11  Casino                   504 non-null    object\n",
      " 12  Free_internet            504 non-null    object\n",
      " 13  Hotel_name               504 non-null    object\n",
      " 14  Hotel_stars              504 non-null    int64 \n",
      " 15  Number_of_rooms          504 non-null    int64 \n",
      " 16  User_continent           504 non-null    object\n",
      " 17  Member_years             504 non-null    int64 \n",
      " 18  Review_month             504 non-null    object\n",
      " 19  Review_weekday           504 non-null    object\n",
      "dtypes: int64(7), object(13)\n",
      "memory usage: 78.9+ KB\n"
     ]
    },
    {
     "data": {
      "text/plain": [
       "12"
      ]
     },
     "execution_count": 131,
     "metadata": {},
     "output_type": "execute_result"
    }
   ],
   "source": [
    "# Import data\n",
    "data=pd.read_csv(\"Data\\\\LasVegasTripAdvisorReviews-Dataset.csv\")\n",
    "data.info()\n",
    "\n",
    "data[\"Hotel_name\"].nunique() # 21 hotels.\n",
    "data[\"Review_month\"].nunique()"
   ]
  },
  {
   "cell_type": "code",
   "execution_count": 132,
   "id": "a2034408",
   "metadata": {},
   "outputs": [
    {
     "data": {
      "text/plain": [
       "array([3, 4, 5], dtype=int64)"
      ]
     },
     "execution_count": 132,
     "metadata": {},
     "output_type": "execute_result"
    }
   ],
   "source": [
    "data.head()\n",
    "data['User_country'].value_counts()\n",
    "data['Hotel_stars'].unique()"
   ]
  },
  {
   "cell_type": "markdown",
   "id": "d060b871",
   "metadata": {},
   "source": [
    "### Visualization"
   ]
  },
  {
   "cell_type": "code",
   "execution_count": 133,
   "id": "d15e327c",
   "metadata": {},
   "outputs": [],
   "source": [
    "# Make dataframe pipeline interactive\n",
    "df = data.interactive(width=2200) "
   ]
  },
  {
   "cell_type": "code",
   "execution_count": 134,
   "id": "133f7130",
   "metadata": {
    "scrolled": true
   },
   "outputs": [
    {
     "data": {},
     "metadata": {},
     "output_type": "display_data"
    },
    {
     "data": {
      "application/vnd.holoviews_exec.v0+json": "",
      "text/html": [
       "<div id='30385'>\n",
       "\n",
       "\n",
       "\n",
       "\n",
       "\n",
       "  <div class=\"bk-root\" id=\"6bbab365-1628-4998-884c-3777cc3de416\" data-root-id=\"30385\"></div>\n",
       "</div>\n",
       "<script type=\"application/javascript\">(function(root) {\n",
       "  function embed_document(root) {\n",
       "    var docs_json = {\"5f3d17f8-ac13-4fdd-bcf8-55d9842d9886\":{\"defs\":[{\"extends\":null,\"module\":null,\"name\":\"ReactiveHTML1\",\"overrides\":[],\"properties\":[]},{\"extends\":null,\"module\":null,\"name\":\"FlexBox1\",\"overrides\":[],\"properties\":[{\"default\":\"flex-start\",\"kind\":null,\"name\":\"align_content\"},{\"default\":\"flex-start\",\"kind\":null,\"name\":\"align_items\"},{\"default\":\"row\",\"kind\":null,\"name\":\"flex_direction\"},{\"default\":\"wrap\",\"kind\":null,\"name\":\"flex_wrap\"},{\"default\":\"flex-start\",\"kind\":null,\"name\":\"justify_content\"}]},{\"extends\":null,\"module\":null,\"name\":\"GridStack1\",\"overrides\":[],\"properties\":[{\"default\":\"warn\",\"kind\":null,\"name\":\"mode\"},{\"default\":null,\"kind\":null,\"name\":\"ncols\"},{\"default\":null,\"kind\":null,\"name\":\"nrows\"},{\"default\":true,\"kind\":null,\"name\":\"allow_resize\"},{\"default\":true,\"kind\":null,\"name\":\"allow_drag\"},{\"default\":[],\"kind\":null,\"name\":\"state\"}]},{\"extends\":null,\"module\":null,\"name\":\"click1\",\"overrides\":[],\"properties\":[{\"default\":\"\",\"kind\":null,\"name\":\"terminal_output\"},{\"default\":\"\",\"kind\":null,\"name\":\"debug_name\"},{\"default\":0,\"kind\":null,\"name\":\"clears\"}]},{\"extends\":null,\"module\":null,\"name\":\"NotificationAreaBase1\",\"overrides\":[],\"properties\":[{\"default\":\"bottom-right\",\"kind\":null,\"name\":\"position\"},{\"default\":0,\"kind\":null,\"name\":\"_clear\"}]},{\"extends\":null,\"module\":null,\"name\":\"NotificationArea1\",\"overrides\":[],\"properties\":[{\"default\":[],\"kind\":null,\"name\":\"notifications\"},{\"default\":\"bottom-right\",\"kind\":null,\"name\":\"position\"},{\"default\":0,\"kind\":null,\"name\":\"_clear\"},{\"default\":[{\"background\":\"#ffc107\",\"icon\":{\"className\":\"fas fa-exclamation-triangle\",\"color\":\"white\",\"tagName\":\"i\"},\"type\":\"warning\"},{\"background\":\"#007bff\",\"icon\":{\"className\":\"fas fa-info-circle\",\"color\":\"white\",\"tagName\":\"i\"},\"type\":\"info\"}],\"kind\":null,\"name\":\"types\"}]},{\"extends\":null,\"module\":null,\"name\":\"Notification\",\"overrides\":[],\"properties\":[{\"default\":null,\"kind\":null,\"name\":\"background\"},{\"default\":3000,\"kind\":null,\"name\":\"duration\"},{\"default\":null,\"kind\":null,\"name\":\"icon\"},{\"default\":\"\",\"kind\":null,\"name\":\"message\"},{\"default\":null,\"kind\":null,\"name\":\"notification_type\"},{\"default\":false,\"kind\":null,\"name\":\"_destroyed\"}]},{\"extends\":null,\"module\":null,\"name\":\"TemplateActions1\",\"overrides\":[],\"properties\":[{\"default\":0,\"kind\":null,\"name\":\"open_modal\"},{\"default\":0,\"kind\":null,\"name\":\"close_modal\"}]},{\"extends\":null,\"module\":null,\"name\":\"MaterialTemplateActions1\",\"overrides\":[],\"properties\":[{\"default\":0,\"kind\":null,\"name\":\"open_modal\"},{\"default\":0,\"kind\":null,\"name\":\"close_modal\"}]}],\"roots\":{\"references\":[{\"attributes\":{\"margin\":[5,10,5,10],\"options\":[\"3\",\"4\",\"5\"],\"title\":\"Hotel stars\",\"value\":\"3\"},\"id\":\"30385\",\"type\":\"panel.models.widgets.CustomSelect\"},{\"attributes\":{\"client_comm_id\":\"db3c67328db9401a960f31cd177234b7\",\"comm_id\":\"baaa89f9b40b4b8faaf39059190a83df\",\"plot_id\":\"30385\"},\"id\":\"30386\",\"type\":\"panel.models.comm_manager.CommManager\"}],\"root_ids\":[\"30385\",\"30386\"]},\"title\":\"Bokeh Application\",\"version\":\"2.4.1\"}};\n",
       "    var render_items = [{\"docid\":\"5f3d17f8-ac13-4fdd-bcf8-55d9842d9886\",\"root_ids\":[\"30385\"],\"roots\":{\"30385\":\"6bbab365-1628-4998-884c-3777cc3de416\"}}];\n",
       "    root.Bokeh.embed.embed_items_notebook(docs_json, render_items);\n",
       "    for (const render_item of render_items) {\n",
       "      for (const root_id of render_item.root_ids) {\n",
       "\tconst id_el = document.getElementById(root_id)\n",
       "\tif (id_el.children.length && (id_el.children[0].className === 'bk-root')) {\n",
       "\t  const root_el = id_el.children[0]\n",
       "\t  root_el.id = root_el.id + '-rendered'\n",
       "\t}\n",
       "      }\n",
       "    }\n",
       "  }\n",
       "  if (root.Bokeh !== undefined && root.Bokeh.Panel !== undefined && ( root['Tabulator'] !== undefined) && ( root['Tabulator'] !== undefined) && ( root['Tabulator'] !== undefined) && ( root['Tabulator'] !== undefined) && ( root['Tabulator'] !== undefined) && ( root['Tabulator'] !== undefined) && ( root['Tabulator'] !== undefined) && ( root['Tabulator'] !== undefined) && ( root['Tabulator'] !== undefined) && ( root['Tabulator'] !== undefined) && ( root['Tabulator'] !== undefined)) {\n",
       "    embed_document(root);\n",
       "  } else {\n",
       "    var attempts = 0;\n",
       "    var timer = setInterval(function(root) {\n",
       "      if (root.Bokeh !== undefined && root.Bokeh.Panel !== undefined && (root['Tabulator'] !== undefined) && (root['Tabulator'] !== undefined) && (root['Tabulator'] !== undefined) && (root['Tabulator'] !== undefined) && (root['Tabulator'] !== undefined) && (root['Tabulator'] !== undefined) && (root['Tabulator'] !== undefined) && (root['Tabulator'] !== undefined) && (root['Tabulator'] !== undefined) && (root['Tabulator'] !== undefined) && (root['Tabulator'] !== undefined)) {\n",
       "        clearInterval(timer);\n",
       "        embed_document(root);\n",
       "      } else if (document.readyState == \"complete\") {\n",
       "        attempts++;\n",
       "        if (attempts > 200) {\n",
       "          clearInterval(timer);\n",
       "          console.log(\"Bokeh: ERROR: Unable to run BokehJS code because BokehJS library is missing\");\n",
       "        }\n",
       "      }\n",
       "    }, 25, root)\n",
       "  }\n",
       "})(window);</script>"
      ],
      "text/plain": [
       "Select(name='Hotel stars', options=[3, 4, 5], value=3)"
      ]
     },
     "execution_count": 134,
     "metadata": {
      "application/vnd.holoviews_exec.v0+json": {
       "id": "30385"
      }
     },
     "output_type": "execute_result"
    }
   ],
   "source": [
    "# Select widget for Hotel stars\n",
    "hote = data['Hotel_stars'].unique()\n",
    "hotel_stars = pn.widgets.Select(name='Hotel stars', options=[3,4,5])\n",
    "hotel_stars"
   ]
  },
  {
   "cell_type": "code",
   "execution_count": 135,
   "id": "731d808e",
   "metadata": {},
   "outputs": [
    {
     "data": {},
     "metadata": {},
     "output_type": "display_data"
    },
    {
     "data": {
      "application/vnd.holoviews_exec.v0+json": "",
      "text/html": [
       "<div id='30387'>\n",
       "\n",
       "\n",
       "\n",
       "\n",
       "\n",
       "  <div class=\"bk-root\" id=\"dd3a6b53-6c14-4516-91da-4276de8ab1db\" data-root-id=\"30387\"></div>\n",
       "</div>\n",
       "<script type=\"application/javascript\">(function(root) {\n",
       "  function embed_document(root) {\n",
       "    var docs_json = {\"4f481086-6460-464d-84f3-c55c21b9429d\":{\"defs\":[{\"extends\":null,\"module\":null,\"name\":\"ReactiveHTML1\",\"overrides\":[],\"properties\":[]},{\"extends\":null,\"module\":null,\"name\":\"FlexBox1\",\"overrides\":[],\"properties\":[{\"default\":\"flex-start\",\"kind\":null,\"name\":\"align_content\"},{\"default\":\"flex-start\",\"kind\":null,\"name\":\"align_items\"},{\"default\":\"row\",\"kind\":null,\"name\":\"flex_direction\"},{\"default\":\"wrap\",\"kind\":null,\"name\":\"flex_wrap\"},{\"default\":\"flex-start\",\"kind\":null,\"name\":\"justify_content\"}]},{\"extends\":null,\"module\":null,\"name\":\"GridStack1\",\"overrides\":[],\"properties\":[{\"default\":\"warn\",\"kind\":null,\"name\":\"mode\"},{\"default\":null,\"kind\":null,\"name\":\"ncols\"},{\"default\":null,\"kind\":null,\"name\":\"nrows\"},{\"default\":true,\"kind\":null,\"name\":\"allow_resize\"},{\"default\":true,\"kind\":null,\"name\":\"allow_drag\"},{\"default\":[],\"kind\":null,\"name\":\"state\"}]},{\"extends\":null,\"module\":null,\"name\":\"click1\",\"overrides\":[],\"properties\":[{\"default\":\"\",\"kind\":null,\"name\":\"terminal_output\"},{\"default\":\"\",\"kind\":null,\"name\":\"debug_name\"},{\"default\":0,\"kind\":null,\"name\":\"clears\"}]},{\"extends\":null,\"module\":null,\"name\":\"NotificationAreaBase1\",\"overrides\":[],\"properties\":[{\"default\":\"bottom-right\",\"kind\":null,\"name\":\"position\"},{\"default\":0,\"kind\":null,\"name\":\"_clear\"}]},{\"extends\":null,\"module\":null,\"name\":\"NotificationArea1\",\"overrides\":[],\"properties\":[{\"default\":[],\"kind\":null,\"name\":\"notifications\"},{\"default\":\"bottom-right\",\"kind\":null,\"name\":\"position\"},{\"default\":0,\"kind\":null,\"name\":\"_clear\"},{\"default\":[{\"background\":\"#ffc107\",\"icon\":{\"className\":\"fas fa-exclamation-triangle\",\"color\":\"white\",\"tagName\":\"i\"},\"type\":\"warning\"},{\"background\":\"#007bff\",\"icon\":{\"className\":\"fas fa-info-circle\",\"color\":\"white\",\"tagName\":\"i\"},\"type\":\"info\"}],\"kind\":null,\"name\":\"types\"}]},{\"extends\":null,\"module\":null,\"name\":\"Notification\",\"overrides\":[],\"properties\":[{\"default\":null,\"kind\":null,\"name\":\"background\"},{\"default\":3000,\"kind\":null,\"name\":\"duration\"},{\"default\":null,\"kind\":null,\"name\":\"icon\"},{\"default\":\"\",\"kind\":null,\"name\":\"message\"},{\"default\":null,\"kind\":null,\"name\":\"notification_type\"},{\"default\":false,\"kind\":null,\"name\":\"_destroyed\"}]},{\"extends\":null,\"module\":null,\"name\":\"TemplateActions1\",\"overrides\":[],\"properties\":[{\"default\":0,\"kind\":null,\"name\":\"open_modal\"},{\"default\":0,\"kind\":null,\"name\":\"close_modal\"}]},{\"extends\":null,\"module\":null,\"name\":\"MaterialTemplateActions1\",\"overrides\":[],\"properties\":[{\"default\":0,\"kind\":null,\"name\":\"open_modal\"},{\"default\":0,\"kind\":null,\"name\":\"close_modal\"}]}],\"roots\":{\"references\":[{\"attributes\":{\"client_comm_id\":\"9b8eb0f6ffc6451ea09aeef35066d9f4\",\"comm_id\":\"8e61d324e92c4759a3b1fcfd27b69f48\",\"plot_id\":\"30387\"},\"id\":\"30388\",\"type\":\"panel.models.comm_manager.CommManager\"},{\"attributes\":{\"active\":0,\"button_type\":\"success\",\"labels\":[\"Score\",\"Number_of_hotel_reviews\"],\"margin\":[5,10,5,10]},\"id\":\"30387\",\"type\":\"RadioButtonGroup\"}],\"root_ids\":[\"30387\",\"30388\"]},\"title\":\"Bokeh Application\",\"version\":\"2.4.1\"}};\n",
       "    var render_items = [{\"docid\":\"4f481086-6460-464d-84f3-c55c21b9429d\",\"root_ids\":[\"30387\"],\"roots\":{\"30387\":\"dd3a6b53-6c14-4516-91da-4276de8ab1db\"}}];\n",
       "    root.Bokeh.embed.embed_items_notebook(docs_json, render_items);\n",
       "    for (const render_item of render_items) {\n",
       "      for (const root_id of render_item.root_ids) {\n",
       "\tconst id_el = document.getElementById(root_id)\n",
       "\tif (id_el.children.length && (id_el.children[0].className === 'bk-root')) {\n",
       "\t  const root_el = id_el.children[0]\n",
       "\t  root_el.id = root_el.id + '-rendered'\n",
       "\t}\n",
       "      }\n",
       "    }\n",
       "  }\n",
       "  if (root.Bokeh !== undefined && root.Bokeh.Panel !== undefined && ( root['Tabulator'] !== undefined) && ( root['Tabulator'] !== undefined) && ( root['Tabulator'] !== undefined) && ( root['Tabulator'] !== undefined) && ( root['Tabulator'] !== undefined) && ( root['Tabulator'] !== undefined) && ( root['Tabulator'] !== undefined) && ( root['Tabulator'] !== undefined) && ( root['Tabulator'] !== undefined) && ( root['Tabulator'] !== undefined) && ( root['Tabulator'] !== undefined)) {\n",
       "    embed_document(root);\n",
       "  } else {\n",
       "    var attempts = 0;\n",
       "    var timer = setInterval(function(root) {\n",
       "      if (root.Bokeh !== undefined && root.Bokeh.Panel !== undefined && (root['Tabulator'] !== undefined) && (root['Tabulator'] !== undefined) && (root['Tabulator'] !== undefined) && (root['Tabulator'] !== undefined) && (root['Tabulator'] !== undefined) && (root['Tabulator'] !== undefined) && (root['Tabulator'] !== undefined) && (root['Tabulator'] !== undefined) && (root['Tabulator'] !== undefined) && (root['Tabulator'] !== undefined) && (root['Tabulator'] !== undefined)) {\n",
       "        clearInterval(timer);\n",
       "        embed_document(root);\n",
       "      } else if (document.readyState == \"complete\") {\n",
       "        attempts++;\n",
       "        if (attempts > 200) {\n",
       "          clearInterval(timer);\n",
       "          console.log(\"Bokeh: ERROR: Unable to run BokehJS code because BokehJS library is missing\");\n",
       "        }\n",
       "      }\n",
       "    }, 25, root)\n",
       "  }\n",
       "})(window);</script>"
      ],
      "text/plain": [
       "RadioButtonGroup(button_type='success', name='Y axis', options=['Score', 'Number_of_hotel...], value='Score')"
      ]
     },
     "execution_count": 135,
     "metadata": {
      "application/vnd.holoviews_exec.v0+json": {
       "id": "30387"
      }
     },
     "output_type": "execute_result"
    }
   ],
   "source": [
    "# Radio buttons for Score and number of hotel reviews\n",
    "yaxis_stars = pn.widgets.RadioButtonGroup(\n",
    "    name='Y axis', \n",
    "    options=['Score','Number_of_hotel_reviews'],\n",
    "    button_type='success'\n",
    ")\n",
    "yaxis_stars"
   ]
  },
  {
   "cell_type": "code",
   "execution_count": 136,
   "id": "df09814c",
   "metadata": {},
   "outputs": [
    {
     "data": {},
     "metadata": {},
     "output_type": "display_data"
    },
    {
     "data": {
      "application/vnd.holoviews_exec.v0+json": "",
      "text/html": [
       "<div id='30389'>\n",
       "\n",
       "\n",
       "\n",
       "\n",
       "\n",
       "  <div class=\"bk-root\" id=\"c3224763-6632-4744-8a84-4aad88054b37\" data-root-id=\"30389\"></div>\n",
       "</div>\n",
       "<script type=\"application/javascript\">(function(root) {\n",
       "  function embed_document(root) {\n",
       "    var docs_json = {\"de4de744-2987-4b49-abbe-bebedf59d1b8\":{\"defs\":[{\"extends\":null,\"module\":null,\"name\":\"ReactiveHTML1\",\"overrides\":[],\"properties\":[]},{\"extends\":null,\"module\":null,\"name\":\"FlexBox1\",\"overrides\":[],\"properties\":[{\"default\":\"flex-start\",\"kind\":null,\"name\":\"align_content\"},{\"default\":\"flex-start\",\"kind\":null,\"name\":\"align_items\"},{\"default\":\"row\",\"kind\":null,\"name\":\"flex_direction\"},{\"default\":\"wrap\",\"kind\":null,\"name\":\"flex_wrap\"},{\"default\":\"flex-start\",\"kind\":null,\"name\":\"justify_content\"}]},{\"extends\":null,\"module\":null,\"name\":\"GridStack1\",\"overrides\":[],\"properties\":[{\"default\":\"warn\",\"kind\":null,\"name\":\"mode\"},{\"default\":null,\"kind\":null,\"name\":\"ncols\"},{\"default\":null,\"kind\":null,\"name\":\"nrows\"},{\"default\":true,\"kind\":null,\"name\":\"allow_resize\"},{\"default\":true,\"kind\":null,\"name\":\"allow_drag\"},{\"default\":[],\"kind\":null,\"name\":\"state\"}]},{\"extends\":null,\"module\":null,\"name\":\"click1\",\"overrides\":[],\"properties\":[{\"default\":\"\",\"kind\":null,\"name\":\"terminal_output\"},{\"default\":\"\",\"kind\":null,\"name\":\"debug_name\"},{\"default\":0,\"kind\":null,\"name\":\"clears\"}]},{\"extends\":null,\"module\":null,\"name\":\"NotificationAreaBase1\",\"overrides\":[],\"properties\":[{\"default\":\"bottom-right\",\"kind\":null,\"name\":\"position\"},{\"default\":0,\"kind\":null,\"name\":\"_clear\"}]},{\"extends\":null,\"module\":null,\"name\":\"NotificationArea1\",\"overrides\":[],\"properties\":[{\"default\":[],\"kind\":null,\"name\":\"notifications\"},{\"default\":\"bottom-right\",\"kind\":null,\"name\":\"position\"},{\"default\":0,\"kind\":null,\"name\":\"_clear\"},{\"default\":[{\"background\":\"#ffc107\",\"icon\":{\"className\":\"fas fa-exclamation-triangle\",\"color\":\"white\",\"tagName\":\"i\"},\"type\":\"warning\"},{\"background\":\"#007bff\",\"icon\":{\"className\":\"fas fa-info-circle\",\"color\":\"white\",\"tagName\":\"i\"},\"type\":\"info\"}],\"kind\":null,\"name\":\"types\"}]},{\"extends\":null,\"module\":null,\"name\":\"Notification\",\"overrides\":[],\"properties\":[{\"default\":null,\"kind\":null,\"name\":\"background\"},{\"default\":3000,\"kind\":null,\"name\":\"duration\"},{\"default\":null,\"kind\":null,\"name\":\"icon\"},{\"default\":\"\",\"kind\":null,\"name\":\"message\"},{\"default\":null,\"kind\":null,\"name\":\"notification_type\"},{\"default\":false,\"kind\":null,\"name\":\"_destroyed\"}]},{\"extends\":null,\"module\":null,\"name\":\"TemplateActions1\",\"overrides\":[],\"properties\":[{\"default\":0,\"kind\":null,\"name\":\"open_modal\"},{\"default\":0,\"kind\":null,\"name\":\"close_modal\"}]},{\"extends\":null,\"module\":null,\"name\":\"MaterialTemplateActions1\",\"overrides\":[],\"properties\":[{\"default\":0,\"kind\":null,\"name\":\"open_modal\"},{\"default\":0,\"kind\":null,\"name\":\"close_modal\"}]}],\"roots\":{\"references\":[{\"attributes\":{\"children\":[{\"id\":\"30397\"}],\"margin\":[0,0,0,0],\"min_width\":2200,\"name\":\"Row37093\",\"width\":2200},\"id\":\"30396\",\"type\":\"Row\"},{\"attributes\":{\"margin\":[5,10,5,10],\"options\":[\"3\",\"4\",\"5\"],\"title\":\"Hotel stars\",\"value\":\"3\"},\"id\":\"30393\",\"type\":\"panel.models.widgets.CustomSelect\"},{\"attributes\":{\"children\":[{\"id\":\"30392\"},{\"id\":\"30395\"}],\"margin\":[0,0,0,0],\"name\":\"Row37097\"},\"id\":\"30391\",\"type\":\"Row\"},{\"attributes\":{\"children\":[{\"id\":\"30390\"}],\"margin\":[0,0,0,0],\"name\":\"Row37099\"},\"id\":\"30389\",\"type\":\"Row\"},{\"attributes\":{\"client_comm_id\":\"d18fb99962fd47fbae7ae52c9ec578e7\",\"comm_id\":\"6974d4a9b41b4a158879b92e748b1e89\",\"plot_id\":\"30389\"},\"id\":\"30398\",\"type\":\"panel.models.comm_manager.CommManager\"},{\"attributes\":{\"active\":0,\"button_type\":\"success\",\"labels\":[\"Score\",\"Number_of_hotel_reviews\"],\"margin\":[5,10,5,10]},\"id\":\"30394\",\"type\":\"RadioButtonGroup\"},{\"attributes\":{\"children\":[{\"id\":\"30391\"},{\"id\":\"30396\"}],\"margin\":[0,0,0,0],\"name\":\"Column37098\"},\"id\":\"30390\",\"type\":\"Column\"},{\"attributes\":{\"margin\":[5,5,5,5],\"name\":\"DataFrame37094\",\"text\":\"&lt;table border=&quot;0&quot; class=&quot;dataframe panel-df&quot;&gt;\\n  &lt;thead&gt;\\n    &lt;tr style=&quot;text-align: right;&quot;&gt;\\n      &lt;th&gt;&lt;/th&gt;\\n      &lt;th&gt;Hotel_name&lt;/th&gt;\\n      &lt;th&gt;Score&lt;/th&gt;\\n    &lt;/tr&gt;\\n  &lt;/thead&gt;\\n  &lt;tbody&gt;\\n    &lt;tr&gt;\\n      &lt;th&gt;0&lt;/th&gt;\\n      &lt;td&gt;Circus Circus Hotel &amp;amp; Casino Las Vegas&lt;/td&gt;\\n      &lt;td&gt;3.208333&lt;/td&gt;\\n    &lt;/tr&gt;\\n    &lt;tr&gt;\\n      &lt;th&gt;1&lt;/th&gt;\\n      &lt;td&gt;Excalibur Hotel &amp;amp; Casino&lt;/td&gt;\\n      &lt;td&gt;3.708333&lt;/td&gt;\\n    &lt;/tr&gt;\\n    &lt;tr&gt;\\n      &lt;th&gt;2&lt;/th&gt;\\n      &lt;td&gt;Hilton Grand Vacations at the Flamingo&lt;/td&gt;\\n      &lt;td&gt;3.958333&lt;/td&gt;\\n    &lt;/tr&gt;\\n    &lt;tr&gt;\\n      &lt;th&gt;3&lt;/th&gt;\\n      &lt;td&gt;Hilton Grand Vacations on the Boulevard&lt;/td&gt;\\n      &lt;td&gt;4.166667&lt;/td&gt;\\n    &lt;/tr&gt;\\n    &lt;tr&gt;\\n      &lt;th&gt;4&lt;/th&gt;\\n      &lt;td&gt;Marriott&#x27;s Grand Chateau&lt;/td&gt;\\n      &lt;td&gt;4.541667&lt;/td&gt;\\n    &lt;/tr&gt;\\n    &lt;tr&gt;\\n      &lt;th&gt;5&lt;/th&gt;\\n      &lt;td&gt;Tuscany Las Vegas Suites &amp;amp; Casino&lt;/td&gt;\\n      &lt;td&gt;4.208333&lt;/td&gt;\\n    &lt;/tr&gt;\\n    &lt;tr&gt;\\n      &lt;th&gt;6&lt;/th&gt;\\n      &lt;td&gt;Wyndham Grand Desert&lt;/td&gt;\\n      &lt;td&gt;4.375000&lt;/td&gt;\\n    &lt;/tr&gt;\\n  &lt;/tbody&gt;\\n&lt;/table&gt;\",\"width\":2200},\"id\":\"30397\",\"type\":\"panel.models.markup.HTML\"},{\"attributes\":{\"margin\":[5,5,5,5],\"name\":\"HSpacer37096\",\"sizing_mode\":\"stretch_width\"},\"id\":\"30395\",\"type\":\"Spacer\"},{\"attributes\":{\"children\":[{\"id\":\"30393\"},{\"id\":\"30394\"}],\"margin\":[0,0,0,0],\"name\":\"Column37088\"},\"id\":\"30392\",\"type\":\"Column\"}],\"root_ids\":[\"30389\",\"30398\"]},\"title\":\"Bokeh Application\",\"version\":\"2.4.1\"}};\n",
       "    var render_items = [{\"docid\":\"de4de744-2987-4b49-abbe-bebedf59d1b8\",\"root_ids\":[\"30389\"],\"roots\":{\"30389\":\"c3224763-6632-4744-8a84-4aad88054b37\"}}];\n",
       "    root.Bokeh.embed.embed_items_notebook(docs_json, render_items);\n",
       "    for (const render_item of render_items) {\n",
       "      for (const root_id of render_item.root_ids) {\n",
       "\tconst id_el = document.getElementById(root_id)\n",
       "\tif (id_el.children.length && (id_el.children[0].className === 'bk-root')) {\n",
       "\t  const root_el = id_el.children[0]\n",
       "\t  root_el.id = root_el.id + '-rendered'\n",
       "\t}\n",
       "      }\n",
       "    }\n",
       "  }\n",
       "  if (root.Bokeh !== undefined && root.Bokeh.Panel !== undefined && ( root['Tabulator'] !== undefined) && ( root['Tabulator'] !== undefined) && ( root['Tabulator'] !== undefined) && ( root['Tabulator'] !== undefined) && ( root['Tabulator'] !== undefined) && ( root['Tabulator'] !== undefined) && ( root['Tabulator'] !== undefined) && ( root['Tabulator'] !== undefined) && ( root['Tabulator'] !== undefined) && ( root['Tabulator'] !== undefined) && ( root['Tabulator'] !== undefined)) {\n",
       "    embed_document(root);\n",
       "  } else {\n",
       "    var attempts = 0;\n",
       "    var timer = setInterval(function(root) {\n",
       "      if (root.Bokeh !== undefined && root.Bokeh.Panel !== undefined && (root['Tabulator'] !== undefined) && (root['Tabulator'] !== undefined) && (root['Tabulator'] !== undefined) && (root['Tabulator'] !== undefined) && (root['Tabulator'] !== undefined) && (root['Tabulator'] !== undefined) && (root['Tabulator'] !== undefined) && (root['Tabulator'] !== undefined) && (root['Tabulator'] !== undefined) && (root['Tabulator'] !== undefined) && (root['Tabulator'] !== undefined)) {\n",
       "        clearInterval(timer);\n",
       "        embed_document(root);\n",
       "      } else if (document.readyState == \"complete\") {\n",
       "        attempts++;\n",
       "        if (attempts > 200) {\n",
       "          clearInterval(timer);\n",
       "          console.log(\"Bokeh: ERROR: Unable to run BokehJS code because BokehJS library is missing\");\n",
       "        }\n",
       "      }\n",
       "    }, 25, root)\n",
       "  }\n",
       "})(window);</script>"
      ],
      "text/plain": [
       "<hvplot.interactive.Interactive at 0x1e6703d9cd0>"
      ]
     },
     "execution_count": 136,
     "metadata": {
      "application/vnd.holoviews_exec.v0+json": {
       "id": "30389"
      }
     },
     "output_type": "execute_result"
    }
   ],
   "source": [
    "# Need to connect data pipeline to widgets so that they are getting updated in real time.\n",
    "hotels_stars_pipeline = (\n",
    "    df[\n",
    "        (df.Hotel_stars == hotel_stars)\n",
    "    ]\n",
    "     .groupby(['Hotel_name'])[yaxis_stars].mean()\n",
    "     .to_frame()\n",
    "     .reset_index()  \n",
    "     .reset_index(drop=True)\n",
    " )\n",
    "hotels_stars_pipeline"
   ]
  },
  {
   "cell_type": "code",
   "execution_count": 137,
   "id": "8ef28e2c",
   "metadata": {},
   "outputs": [
    {
     "data": {},
     "metadata": {},
     "output_type": "display_data"
    },
    {
     "data": {},
     "metadata": {},
     "output_type": "display_data"
    },
    {
     "data": {
      "application/vnd.holoviews_exec.v0+json": "",
      "text/html": [
       "<div id='30399'>\n",
       "\n",
       "\n",
       "\n",
       "\n",
       "\n",
       "  <div class=\"bk-root\" id=\"b1211770-4faf-4955-bdb1-bb3d527366ad\" data-root-id=\"30399\"></div>\n",
       "</div>\n",
       "<script type=\"application/javascript\">(function(root) {\n",
       "  function embed_document(root) {\n",
       "    var docs_json = {\"5f5b6f74-a8f2-4fc5-8afb-9a15280d4c1d\":{\"defs\":[{\"extends\":null,\"module\":null,\"name\":\"ReactiveHTML1\",\"overrides\":[],\"properties\":[]},{\"extends\":null,\"module\":null,\"name\":\"FlexBox1\",\"overrides\":[],\"properties\":[{\"default\":\"flex-start\",\"kind\":null,\"name\":\"align_content\"},{\"default\":\"flex-start\",\"kind\":null,\"name\":\"align_items\"},{\"default\":\"row\",\"kind\":null,\"name\":\"flex_direction\"},{\"default\":\"wrap\",\"kind\":null,\"name\":\"flex_wrap\"},{\"default\":\"flex-start\",\"kind\":null,\"name\":\"justify_content\"}]},{\"extends\":null,\"module\":null,\"name\":\"GridStack1\",\"overrides\":[],\"properties\":[{\"default\":\"warn\",\"kind\":null,\"name\":\"mode\"},{\"default\":null,\"kind\":null,\"name\":\"ncols\"},{\"default\":null,\"kind\":null,\"name\":\"nrows\"},{\"default\":true,\"kind\":null,\"name\":\"allow_resize\"},{\"default\":true,\"kind\":null,\"name\":\"allow_drag\"},{\"default\":[],\"kind\":null,\"name\":\"state\"}]},{\"extends\":null,\"module\":null,\"name\":\"click1\",\"overrides\":[],\"properties\":[{\"default\":\"\",\"kind\":null,\"name\":\"terminal_output\"},{\"default\":\"\",\"kind\":null,\"name\":\"debug_name\"},{\"default\":0,\"kind\":null,\"name\":\"clears\"}]},{\"extends\":null,\"module\":null,\"name\":\"NotificationAreaBase1\",\"overrides\":[],\"properties\":[{\"default\":\"bottom-right\",\"kind\":null,\"name\":\"position\"},{\"default\":0,\"kind\":null,\"name\":\"_clear\"}]},{\"extends\":null,\"module\":null,\"name\":\"NotificationArea1\",\"overrides\":[],\"properties\":[{\"default\":[],\"kind\":null,\"name\":\"notifications\"},{\"default\":\"bottom-right\",\"kind\":null,\"name\":\"position\"},{\"default\":0,\"kind\":null,\"name\":\"_clear\"},{\"default\":[{\"background\":\"#ffc107\",\"icon\":{\"className\":\"fas fa-exclamation-triangle\",\"color\":\"white\",\"tagName\":\"i\"},\"type\":\"warning\"},{\"background\":\"#007bff\",\"icon\":{\"className\":\"fas fa-info-circle\",\"color\":\"white\",\"tagName\":\"i\"},\"type\":\"info\"}],\"kind\":null,\"name\":\"types\"}]},{\"extends\":null,\"module\":null,\"name\":\"Notification\",\"overrides\":[],\"properties\":[{\"default\":null,\"kind\":null,\"name\":\"background\"},{\"default\":3000,\"kind\":null,\"name\":\"duration\"},{\"default\":null,\"kind\":null,\"name\":\"icon\"},{\"default\":\"\",\"kind\":null,\"name\":\"message\"},{\"default\":null,\"kind\":null,\"name\":\"notification_type\"},{\"default\":false,\"kind\":null,\"name\":\"_destroyed\"}]},{\"extends\":null,\"module\":null,\"name\":\"TemplateActions1\",\"overrides\":[],\"properties\":[{\"default\":0,\"kind\":null,\"name\":\"open_modal\"},{\"default\":0,\"kind\":null,\"name\":\"close_modal\"}]},{\"extends\":null,\"module\":null,\"name\":\"MaterialTemplateActions1\",\"overrides\":[],\"properties\":[{\"default\":0,\"kind\":null,\"name\":\"open_modal\"},{\"default\":0,\"kind\":null,\"name\":\"close_modal\"}]}],\"roots\":{\"references\":[{\"attributes\":{},\"id\":\"30424\",\"type\":\"BasicTicker\"},{\"attributes\":{},\"id\":\"30418\",\"type\":\"CategoricalScale\"},{\"attributes\":{},\"id\":\"30431\",\"type\":\"ResetTool\"},{\"attributes\":{\"children\":[{\"id\":\"30400\"}],\"margin\":[0,0,0,0],\"name\":\"Row37248\"},\"id\":\"30399\",\"type\":\"Row\"},{\"attributes\":{\"line_alpha\":0.1,\"line_color\":\"#30a2da\",\"line_width\":2,\"tags\":[\"apply_ranges\"],\"x\":{\"field\":\"Hotel_name\"},\"y\":{\"field\":\"Score\"}},\"id\":\"30444\",\"type\":\"Line\"},{\"attributes\":{\"overlay\":{\"id\":\"30432\"}},\"id\":\"30430\",\"type\":\"BoxZoomTool\"},{\"attributes\":{\"line_color\":\"#30a2da\",\"line_width\":2,\"tags\":[\"apply_ranges\"],\"x\":{\"field\":\"Hotel_name\"},\"y\":{\"field\":\"Score\"}},\"id\":\"30448\",\"type\":\"Line\"},{\"attributes\":{},\"id\":\"30441\",\"type\":\"Selection\"},{\"attributes\":{\"line_color\":\"#30a2da\",\"line_width\":2,\"tags\":[\"apply_ranges\"],\"x\":{\"field\":\"Hotel_name\"},\"y\":{\"field\":\"Score\"}},\"id\":\"30443\",\"type\":\"Line\"},{\"attributes\":{\"active\":0,\"button_type\":\"success\",\"labels\":[\"Score\",\"Number_of_hotel_reviews\"],\"margin\":[5,10,5,10]},\"id\":\"30404\",\"type\":\"RadioButtonGroup\"},{\"attributes\":{\"active_drag\":{\"id\":\"30428\"},\"active_scroll\":{\"id\":\"30429\"},\"tools\":[{\"id\":\"30410\"},{\"id\":\"30427\"},{\"id\":\"30428\"},{\"id\":\"30429\"},{\"id\":\"30430\"},{\"id\":\"30431\"}]},\"id\":\"30433\",\"type\":\"Toolbar\"},{\"attributes\":{\"axis_label\":\"Hotel_name\",\"coordinates\":null,\"formatter\":{\"id\":\"30450\"},\"group\":null,\"major_label_policy\":{\"id\":\"30451\"},\"ticker\":{\"id\":\"30421\"}},\"id\":\"30420\",\"type\":\"CategoricalAxis\"},{\"attributes\":{\"margin\":[5,10,5,10],\"options\":[\"3\",\"4\",\"5\"],\"title\":\"Hotel stars\",\"value\":\"3\"},\"id\":\"30403\",\"type\":\"panel.models.widgets.CustomSelect\"},{\"attributes\":{},\"id\":\"30466\",\"type\":\"UnionRenderers\"},{\"attributes\":{\"bottom_units\":\"screen\",\"coordinates\":null,\"fill_alpha\":0.5,\"fill_color\":\"lightgrey\",\"group\":null,\"left_units\":\"screen\",\"level\":\"overlay\",\"line_alpha\":1.0,\"line_color\":\"black\",\"line_dash\":[4,4],\"line_width\":2,\"right_units\":\"screen\",\"syncable\":false,\"top_units\":\"screen\"},\"id\":\"30432\",\"type\":\"BoxAnnotation\"},{\"attributes\":{\"line_alpha\":0.2,\"line_color\":\"#30a2da\",\"line_width\":2,\"tags\":[\"apply_ranges\"],\"x\":{\"field\":\"Hotel_name\"},\"y\":{\"field\":\"Score\"}},\"id\":\"30445\",\"type\":\"Line\"},{\"attributes\":{},\"id\":\"30428\",\"type\":\"PanTool\"},{\"attributes\":{\"coordinates\":null,\"group\":null,\"text\":\"Score of Hotels based on Hotel stars\",\"text_color\":\"black\",\"text_font_size\":\"12pt\"},\"id\":\"30412\",\"type\":\"Title\"},{\"attributes\":{\"children\":[{\"id\":\"30401\"},{\"id\":\"30411\"}],\"margin\":[0,0,0,0],\"name\":\"Column37247\"},\"id\":\"30400\",\"type\":\"Column\"},{\"attributes\":{\"client_comm_id\":\"30a03319d8eb4dbb8e80d9aa54102dbd\",\"comm_id\":\"519d79b76e9a42eea47ffcefe2bb24d6\",\"plot_id\":\"30399\"},\"id\":\"30499\",\"type\":\"panel.models.comm_manager.CommManager\"},{\"attributes\":{\"source\":{\"id\":\"30440\"}},\"id\":\"30447\",\"type\":\"CDSView\"},{\"attributes\":{},\"id\":\"30429\",\"type\":\"WheelZoomTool\"},{\"attributes\":{},\"id\":\"30450\",\"type\":\"CategoricalTickFormatter\"},{\"attributes\":{\"children\":[{\"id\":\"30402\"},{\"id\":\"30405\"}],\"margin\":[0,0,0,0],\"name\":\"Row37241\"},\"id\":\"30401\",\"type\":\"Row\"},{\"attributes\":{\"callback\":null,\"renderers\":[{\"id\":\"30446\"}],\"tags\":[\"hv_created\"],\"tooltips\":[[\"Hotel_name\",\"@{Hotel_name}\"],[\"Score\",\"@{Score}\"]]},\"id\":\"30410\",\"type\":\"HoverTool\"},{\"attributes\":{\"factors\":[\"Circus Circus Hotel & Casino Las Vegas\",\"Excalibur Hotel & Casino\",\"Hilton Grand Vacations at the Flamingo\",\"Hilton Grand Vacations on the Boulevard\",\"Marriott's Grand Chateau\",\"Tuscany Las Vegas Suites & Casino\",\"Wyndham Grand Desert\"],\"tags\":[[[\"Hotel_name\",\"Hotel_name\",null]],[]]},\"id\":\"30406\",\"type\":\"FactorRange\"},{\"attributes\":{},\"id\":\"30451\",\"type\":\"AllLabels\"},{\"attributes\":{},\"id\":\"30419\",\"type\":\"LinearScale\"},{\"attributes\":{\"axis\":{\"id\":\"30420\"},\"coordinates\":null,\"grid_line_color\":null,\"group\":null,\"ticker\":null},\"id\":\"30422\",\"type\":\"Grid\"},{\"attributes\":{},\"id\":\"30427\",\"type\":\"SaveTool\"},{\"attributes\":{\"axis_label\":\"Score\",\"coordinates\":null,\"formatter\":{\"id\":\"30453\"},\"group\":null,\"major_label_policy\":{\"id\":\"30454\"},\"ticker\":{\"id\":\"30424\"}},\"id\":\"30423\",\"type\":\"LinearAxis\"},{\"attributes\":{\"margin\":[5,5,5,5],\"name\":\"HSpacer37240\",\"sizing_mode\":\"stretch_width\"},\"id\":\"30405\",\"type\":\"Spacer\"},{\"attributes\":{\"axis\":{\"id\":\"30423\"},\"coordinates\":null,\"dimension\":1,\"grid_line_color\":null,\"group\":null,\"ticker\":null},\"id\":\"30426\",\"type\":\"Grid\"},{\"attributes\":{},\"id\":\"30453\",\"type\":\"BasicTickFormatter\"},{\"attributes\":{},\"id\":\"30421\",\"type\":\"CategoricalTicker\"},{\"attributes\":{},\"id\":\"30454\",\"type\":\"AllLabels\"},{\"attributes\":{\"below\":[{\"id\":\"30420\"}],\"center\":[{\"id\":\"30422\"},{\"id\":\"30426\"}],\"height\":300,\"left\":[{\"id\":\"30423\"}],\"margin\":[5,5,5,5],\"min_border_bottom\":10,\"min_border_left\":10,\"min_border_right\":10,\"min_border_top\":10,\"output_backend\":\"webgl\",\"renderers\":[{\"id\":\"30446\"}],\"sizing_mode\":\"fixed\",\"title\":{\"id\":\"30412\"},\"toolbar\":{\"id\":\"30433\"},\"width\":500,\"x_range\":{\"id\":\"30406\"},\"x_scale\":{\"id\":\"30418\"},\"y_range\":{\"id\":\"30407\"},\"y_scale\":{\"id\":\"30419\"}},\"id\":\"30411\",\"subtype\":\"Figure\",\"type\":\"Plot\"},{\"attributes\":{\"data\":{\"Hotel_name\":[\"Circus Circus Hotel & Casino Las Vegas\",\"Excalibur Hotel & Casino\",\"Hilton Grand Vacations at the Flamingo\",\"Hilton Grand Vacations on the Boulevard\",\"Marriott's Grand Chateau\",\"Tuscany Las Vegas Suites & Casino\",\"Wyndham Grand Desert\"],\"Score\":{\"__ndarray__\":\"q6qqqqqqCUCrqqqqqqoNQKuqqqqqqg9Aq6qqqqqqEECrqqqqqioSQFVVVVVV1RBAAAAAAACAEUA=\",\"dtype\":\"float64\",\"order\":\"little\",\"shape\":[7]}},\"selected\":{\"id\":\"30441\"},\"selection_policy\":{\"id\":\"30466\"}},\"id\":\"30440\",\"type\":\"ColumnDataSource\"},{\"attributes\":{\"end\":4.675000000000001,\"reset_end\":4.675000000000001,\"reset_start\":3.075,\"start\":3.075,\"tags\":[[[\"Score\",\"Score\",null]],{\"autorange\":false,\"invert_yaxis\":false}]},\"id\":\"30407\",\"type\":\"Range1d\"},{\"attributes\":{\"children\":[{\"id\":\"30403\"},{\"id\":\"30404\"}],\"margin\":[0,0,0,0],\"name\":\"Column37236\"},\"id\":\"30402\",\"type\":\"Column\"},{\"attributes\":{\"coordinates\":null,\"data_source\":{\"id\":\"30440\"},\"glyph\":{\"id\":\"30443\"},\"group\":null,\"hover_glyph\":null,\"muted_glyph\":{\"id\":\"30445\"},\"nonselection_glyph\":{\"id\":\"30444\"},\"selection_glyph\":{\"id\":\"30448\"},\"view\":{\"id\":\"30447\"}},\"id\":\"30446\",\"type\":\"GlyphRenderer\"}],\"root_ids\":[\"30399\",\"30499\"]},\"title\":\"Bokeh Application\",\"version\":\"2.4.1\"}};\n",
       "    var render_items = [{\"docid\":\"5f5b6f74-a8f2-4fc5-8afb-9a15280d4c1d\",\"root_ids\":[\"30399\"],\"roots\":{\"30399\":\"b1211770-4faf-4955-bdb1-bb3d527366ad\"}}];\n",
       "    root.Bokeh.embed.embed_items_notebook(docs_json, render_items);\n",
       "    for (const render_item of render_items) {\n",
       "      for (const root_id of render_item.root_ids) {\n",
       "\tconst id_el = document.getElementById(root_id)\n",
       "\tif (id_el.children.length && (id_el.children[0].className === 'bk-root')) {\n",
       "\t  const root_el = id_el.children[0]\n",
       "\t  root_el.id = root_el.id + '-rendered'\n",
       "\t}\n",
       "      }\n",
       "    }\n",
       "  }\n",
       "  if (root.Bokeh !== undefined && root.Bokeh.Panel !== undefined && ( root['Tabulator'] !== undefined) && ( root['Tabulator'] !== undefined) && ( root['Tabulator'] !== undefined) && ( root['Tabulator'] !== undefined) && ( root['Tabulator'] !== undefined) && ( root['Tabulator'] !== undefined) && ( root['Tabulator'] !== undefined) && ( root['Tabulator'] !== undefined) && ( root['Tabulator'] !== undefined) && ( root['Tabulator'] !== undefined) && ( root['Tabulator'] !== undefined)) {\n",
       "    embed_document(root);\n",
       "  } else {\n",
       "    var attempts = 0;\n",
       "    var timer = setInterval(function(root) {\n",
       "      if (root.Bokeh !== undefined && root.Bokeh.Panel !== undefined && (root['Tabulator'] !== undefined) && (root['Tabulator'] !== undefined) && (root['Tabulator'] !== undefined) && (root['Tabulator'] !== undefined) && (root['Tabulator'] !== undefined) && (root['Tabulator'] !== undefined) && (root['Tabulator'] !== undefined) && (root['Tabulator'] !== undefined) && (root['Tabulator'] !== undefined) && (root['Tabulator'] !== undefined) && (root['Tabulator'] !== undefined)) {\n",
       "        clearInterval(timer);\n",
       "        embed_document(root);\n",
       "      } else if (document.readyState == \"complete\") {\n",
       "        attempts++;\n",
       "        if (attempts > 200) {\n",
       "          clearInterval(timer);\n",
       "          console.log(\"Bokeh: ERROR: Unable to run BokehJS code because BokehJS library is missing\");\n",
       "        }\n",
       "      }\n",
       "    }, 25, root)\n",
       "  }\n",
       "})(window);</script>"
      ],
      "text/plain": [
       "<hvplot.interactive.Interactive at 0x1e6705cc9a0>"
      ]
     },
     "execution_count": 137,
     "metadata": {
      "application/vnd.holoviews_exec.v0+json": {
       "id": "30399"
      }
     },
     "output_type": "execute_result"
    }
   ],
   "source": [
    "# Score based plot\n",
    "hotels_stars_plot = hotels_stars_pipeline.hvplot(x = 'Hotel_name', y=yaxis_stars, line_width=2, title=\"Score of Hotels based on Hotel stars\",width=500, height=300)\n",
    "hotels_stars_plot"
   ]
  },
  {
   "cell_type": "code",
   "execution_count": 138,
   "id": "2592536a",
   "metadata": {},
   "outputs": [],
   "source": [
    "# Select widget for hotel names\n",
    "ho_names = data['Hotel_name'].unique()\n",
    "hotels = pn.widgets.Select(name='Hotels', options=['Circus Circus Hotel & Casino Las Vegas',\n",
    "       'Excalibur Hotel & Casino', 'Monte Carlo Resort&Casino',\n",
    "       'Treasure Island- TI Hotel & Casino',\n",
    "       'Tropicana Las Vegas - A Double Tree by Hilton Hotel',\n",
    "       'Caesars Palace', 'The Cosmopolitan Las Vegas',\n",
    "       'The Palazzo Resort Hotel Casino', 'Wynn Las Vegas',\n",
    "       'Trump International Hotel Las Vegas', 'The Cromwell',\n",
    "       'Encore at wynn Las Vegas',\n",
    "       'Hilton Grand Vacations on the Boulevard',\n",
    "       \"Marriott's Grand Chateau\", 'Tuscany Las Vegas Suites & Casino',\n",
    "       'Hilton Grand Vacations at the Flamingo', 'Wyndham Grand Desert',\n",
    "       'The Venetian Las Vegas Hotel', 'Bellagio Las Vegas',\n",
    "       'Paris Las Vegas', 'The Westin las Vegas Hotel Casino & Spa'])"
   ]
  },
  {
   "cell_type": "code",
   "execution_count": 139,
   "id": "47e10894",
   "metadata": {},
   "outputs": [
    {
     "data": {},
     "metadata": {},
     "output_type": "display_data"
    },
    {
     "data": {
      "application/vnd.holoviews_exec.v0+json": "",
      "text/html": [
       "<div id='30550'>\n",
       "\n",
       "\n",
       "\n",
       "\n",
       "\n",
       "  <div class=\"bk-root\" id=\"1cf3e70e-1c15-4404-acbe-2185ecbd67f7\" data-root-id=\"30550\"></div>\n",
       "</div>\n",
       "<script type=\"application/javascript\">(function(root) {\n",
       "  function embed_document(root) {\n",
       "    var docs_json = {\"5f2a28c9-5fc9-4089-98bf-4f1eb367ba8b\":{\"defs\":[{\"extends\":null,\"module\":null,\"name\":\"ReactiveHTML1\",\"overrides\":[],\"properties\":[]},{\"extends\":null,\"module\":null,\"name\":\"FlexBox1\",\"overrides\":[],\"properties\":[{\"default\":\"flex-start\",\"kind\":null,\"name\":\"align_content\"},{\"default\":\"flex-start\",\"kind\":null,\"name\":\"align_items\"},{\"default\":\"row\",\"kind\":null,\"name\":\"flex_direction\"},{\"default\":\"wrap\",\"kind\":null,\"name\":\"flex_wrap\"},{\"default\":\"flex-start\",\"kind\":null,\"name\":\"justify_content\"}]},{\"extends\":null,\"module\":null,\"name\":\"GridStack1\",\"overrides\":[],\"properties\":[{\"default\":\"warn\",\"kind\":null,\"name\":\"mode\"},{\"default\":null,\"kind\":null,\"name\":\"ncols\"},{\"default\":null,\"kind\":null,\"name\":\"nrows\"},{\"default\":true,\"kind\":null,\"name\":\"allow_resize\"},{\"default\":true,\"kind\":null,\"name\":\"allow_drag\"},{\"default\":[],\"kind\":null,\"name\":\"state\"}]},{\"extends\":null,\"module\":null,\"name\":\"click1\",\"overrides\":[],\"properties\":[{\"default\":\"\",\"kind\":null,\"name\":\"terminal_output\"},{\"default\":\"\",\"kind\":null,\"name\":\"debug_name\"},{\"default\":0,\"kind\":null,\"name\":\"clears\"}]},{\"extends\":null,\"module\":null,\"name\":\"NotificationAreaBase1\",\"overrides\":[],\"properties\":[{\"default\":\"bottom-right\",\"kind\":null,\"name\":\"position\"},{\"default\":0,\"kind\":null,\"name\":\"_clear\"}]},{\"extends\":null,\"module\":null,\"name\":\"NotificationArea1\",\"overrides\":[],\"properties\":[{\"default\":[],\"kind\":null,\"name\":\"notifications\"},{\"default\":\"bottom-right\",\"kind\":null,\"name\":\"position\"},{\"default\":0,\"kind\":null,\"name\":\"_clear\"},{\"default\":[{\"background\":\"#ffc107\",\"icon\":{\"className\":\"fas fa-exclamation-triangle\",\"color\":\"white\",\"tagName\":\"i\"},\"type\":\"warning\"},{\"background\":\"#007bff\",\"icon\":{\"className\":\"fas fa-info-circle\",\"color\":\"white\",\"tagName\":\"i\"},\"type\":\"info\"}],\"kind\":null,\"name\":\"types\"}]},{\"extends\":null,\"module\":null,\"name\":\"Notification\",\"overrides\":[],\"properties\":[{\"default\":null,\"kind\":null,\"name\":\"background\"},{\"default\":3000,\"kind\":null,\"name\":\"duration\"},{\"default\":null,\"kind\":null,\"name\":\"icon\"},{\"default\":\"\",\"kind\":null,\"name\":\"message\"},{\"default\":null,\"kind\":null,\"name\":\"notification_type\"},{\"default\":false,\"kind\":null,\"name\":\"_destroyed\"}]},{\"extends\":null,\"module\":null,\"name\":\"TemplateActions1\",\"overrides\":[],\"properties\":[{\"default\":0,\"kind\":null,\"name\":\"open_modal\"},{\"default\":0,\"kind\":null,\"name\":\"close_modal\"}]},{\"extends\":null,\"module\":null,\"name\":\"MaterialTemplateActions1\",\"overrides\":[],\"properties\":[{\"default\":0,\"kind\":null,\"name\":\"open_modal\"},{\"default\":0,\"kind\":null,\"name\":\"close_modal\"}]}],\"roots\":{\"references\":[{\"attributes\":{},\"id\":\"30577\",\"type\":\"IntEditor\"},{\"attributes\":{\"active\":0,\"button_type\":\"success\",\"labels\":[\"Score\"],\"margin\":[5,10,5,10]},\"id\":\"30555\",\"type\":\"RadioButtonGroup\"},{\"attributes\":{\"children\":[{\"id\":\"30554\"},{\"id\":\"30555\"}],\"margin\":[0,0,0,0],\"name\":\"Column37925\"},\"id\":\"30553\",\"type\":\"Column\"},{\"attributes\":{\"columns\":[{\"id\":\"30563\"},{\"id\":\"30568\"},{\"id\":\"30573\"},{\"id\":\"30578\"},{\"id\":\"30583\"},{\"id\":\"30588\"},{\"id\":\"30593\"},{\"id\":\"30598\"},{\"id\":\"30603\"},{\"id\":\"30608\"},{\"id\":\"30613\"}],\"configuration\":{\"columns\":[{\"field\":\"index\",\"sorter\":\"number\"},{\"field\":\"Hotel_name\"},{\"field\":\"Hotel_stars\",\"sorter\":\"number\"},{\"field\":\"Number_of_rooms\",\"sorter\":\"number\"},{\"field\":\"Tennis_court\"},{\"field\":\"Pool\"},{\"field\":\"Gym\"},{\"field\":\"Spa\"},{\"field\":\"Casino\"},{\"field\":\"Free_internet\"},{\"field\":\"Score\",\"sorter\":\"number\"}],\"dataTree\":false,\"selectable\":true},\"indexes\":[\"index\"],\"layout\":\"fit_data_table\",\"margin\":[5,10,5,10],\"max_page\":1,\"name\":\"\",\"page\":1,\"page_size\":10,\"pagination\":\"remote\",\"select_mode\":true,\"selectable_rows\":null,\"sizing_mode\":\"stretch_width\",\"source\":{\"id\":\"30558\"},\"styles\":{\"data\":{},\"id\":\"8ad54b18307b411eb5f3109b8dc4c2c7\"},\"subscribed_events\":[\"cell-click\",\"table-edit\"],\"theme_url\":\"https://cdn.jsdelivr.net/npm/@holoviz/panel@0.14.3/dist/bundled/datatabulator/tabulator-tables@5.3.2/dist/css/\"},\"id\":\"30616\",\"type\":\"panel.models.tabulator.DataTabulator\"},{\"attributes\":{\"children\":[{\"id\":\"30552\"},{\"id\":\"30557\"}],\"margin\":[0,0,0,0],\"name\":\"Column37933\"},\"id\":\"30551\",\"type\":\"Column\"},{\"attributes\":{},\"id\":\"30587\",\"type\":\"StringEditor\"},{\"attributes\":{},\"id\":\"30586\",\"type\":\"StringFormatter\"},{\"attributes\":{\"editor\":{\"id\":\"30567\"},\"field\":\"Hotel_name\",\"formatter\":{\"id\":\"30566\"},\"title\":\"Hotel_name\",\"width\":0},\"id\":\"30568\",\"type\":\"TableColumn\"},{\"attributes\":{\"text_align\":\"right\"},\"id\":\"30571\",\"type\":\"NumberFormatter\"},{\"attributes\":{\"children\":[{\"id\":\"30551\"}],\"margin\":[0,0,0,0],\"name\":\"Row37934\"},\"id\":\"30550\",\"type\":\"Row\"},{\"attributes\":{},\"id\":\"30581\",\"type\":\"StringFormatter\"},{\"attributes\":{\"format\":\"0,0.0[00000]\",\"text_align\":\"right\"},\"id\":\"30611\",\"type\":\"NumberFormatter\"},{\"attributes\":{},\"id\":\"30572\",\"type\":\"IntEditor\"},{\"attributes\":{\"data\":{\"Casino\":[\"YES\"],\"Free_internet\":[\"YES\"],\"Gym\":[\"YES\"],\"Hotel_name\":[\"Circus Circus Hotel & Casino Las Vegas\"],\"Hotel_stars\":[3],\"Number_of_rooms\":[3773],\"Pool\":[\"NO\"],\"Score\":{\"__ndarray__\":\"q6qqqqqqCUA=\",\"dtype\":\"float64\",\"order\":\"little\",\"shape\":[1]},\"Spa\":[\"NO\"],\"Tennis_court\":[\"NO\"],\"index\":[0]},\"selected\":{\"id\":\"30559\"},\"selection_policy\":{\"id\":\"30618\"}},\"id\":\"30558\",\"type\":\"ColumnDataSource\"},{\"attributes\":{},\"id\":\"30597\",\"type\":\"StringEditor\"},{\"attributes\":{},\"id\":\"30601\",\"type\":\"StringFormatter\"},{\"attributes\":{},\"id\":\"30612\",\"type\":\"NumberEditor\"},{\"attributes\":{},\"id\":\"30596\",\"type\":\"StringFormatter\"},{\"attributes\":{\"indices\":[]},\"id\":\"30559\",\"type\":\"Selection\"},{\"attributes\":{\"editor\":{\"id\":\"30577\"},\"field\":\"Number_of_rooms\",\"formatter\":{\"id\":\"30576\"},\"title\":\"Number_of_rooms\",\"width\":0},\"id\":\"30578\",\"type\":\"TableColumn\"},{\"attributes\":{\"client_comm_id\":\"ba41226b6e9548d4989c9c055cc5cf1a\",\"comm_id\":\"0662a0b21b564087aeb844aa07def6fb\",\"plot_id\":\"30550\"},\"id\":\"30624\",\"type\":\"panel.models.comm_manager.CommManager\"},{\"attributes\":{\"editor\":{\"id\":\"30592\"},\"field\":\"Gym\",\"formatter\":{\"id\":\"30591\"},\"title\":\"Gym\",\"width\":0},\"id\":\"30593\",\"type\":\"TableColumn\"},{\"attributes\":{},\"id\":\"30607\",\"type\":\"StringEditor\"},{\"attributes\":{\"editor\":{\"id\":\"30612\"},\"field\":\"Score\",\"formatter\":{\"id\":\"30611\"},\"title\":\"Score\",\"width\":0},\"id\":\"30613\",\"type\":\"TableColumn\"},{\"attributes\":{\"children\":[{\"id\":\"30616\"}],\"margin\":[0,0,0,0],\"name\":\"Row37930\",\"sizing_mode\":\"stretch_width\",\"width\":2200},\"id\":\"30557\",\"type\":\"Row\"},{\"attributes\":{\"editor\":{\"id\":\"30582\"},\"field\":\"Tennis_court\",\"formatter\":{\"id\":\"30581\"},\"title\":\"Tennis_court\",\"width\":0},\"id\":\"30583\",\"type\":\"TableColumn\"},{\"attributes\":{\"children\":[{\"id\":\"30553\"},{\"id\":\"30556\"}],\"margin\":[0,0,0,0],\"name\":\"Row37932\"},\"id\":\"30552\",\"type\":\"Row\"},{\"attributes\":{},\"id\":\"30582\",\"type\":\"StringEditor\"},{\"attributes\":{},\"id\":\"30618\",\"type\":\"UnionRenderers\"},{\"attributes\":{},\"id\":\"30562\",\"type\":\"CellEditor\"},{\"attributes\":{\"editor\":{\"id\":\"30562\"},\"field\":\"index\",\"formatter\":{\"id\":\"30560\"},\"title\":\"index\",\"width\":0},\"id\":\"30563\",\"type\":\"TableColumn\"},{\"attributes\":{\"margin\":[5,10,5,10],\"options\":[\"Circus Circus Hotel & Casino Las Vegas\",\"Excalibur Hotel & Casino\",\"Monte Carlo Resort&Casino\",\"Treasure Island- TI Hotel & Casino\",\"Tropicana Las Vegas - A Double Tree by Hilton Hotel\",\"Caesars Palace\",\"The Cosmopolitan Las Vegas\",\"The Palazzo Resort Hotel Casino\",\"Wynn Las Vegas\",\"Trump International Hotel Las Vegas\",\"The Cromwell\",\"Encore at wynn Las Vegas\",\"Hilton Grand Vacations on the Boulevard\",\"Marriott's Grand Chateau\",\"Tuscany Las Vegas Suites & Casino\",\"Hilton Grand Vacations at the Flamingo\",\"Wyndham Grand Desert\",\"The Venetian Las Vegas Hotel\",\"Bellagio Las Vegas\",\"Paris Las Vegas\",\"The Westin las Vegas Hotel Casino & Spa\"],\"title\":\"Hotels\",\"value\":\"Circus Circus Hotel & Casino Las Vegas\"},\"id\":\"30554\",\"type\":\"panel.models.widgets.CustomSelect\"},{\"attributes\":{},\"id\":\"30591\",\"type\":\"StringFormatter\"},{\"attributes\":{},\"id\":\"30602\",\"type\":\"StringEditor\"},{\"attributes\":{\"margin\":[5,5,5,5],\"name\":\"HSpacer37931\",\"sizing_mode\":\"stretch_width\"},\"id\":\"30556\",\"type\":\"Spacer\"},{\"attributes\":{\"editor\":{\"id\":\"30602\"},\"field\":\"Casino\",\"formatter\":{\"id\":\"30601\"},\"title\":\"Casino\",\"width\":0},\"id\":\"30603\",\"type\":\"TableColumn\"},{\"attributes\":{\"text_align\":\"left\"},\"id\":\"30560\",\"type\":\"NumberFormatter\"},{\"attributes\":{\"text_align\":\"right\"},\"id\":\"30576\",\"type\":\"NumberFormatter\"},{\"attributes\":{\"editor\":{\"id\":\"30607\"},\"field\":\"Free_internet\",\"formatter\":{\"id\":\"30606\"},\"title\":\"Free_internet\",\"width\":0},\"id\":\"30608\",\"type\":\"TableColumn\"},{\"attributes\":{},\"id\":\"30567\",\"type\":\"StringEditor\"},{\"attributes\":{},\"id\":\"30592\",\"type\":\"StringEditor\"},{\"attributes\":{},\"id\":\"30606\",\"type\":\"StringFormatter\"},{\"attributes\":{\"editor\":{\"id\":\"30597\"},\"field\":\"Spa\",\"formatter\":{\"id\":\"30596\"},\"title\":\"Spa\",\"width\":0},\"id\":\"30598\",\"type\":\"TableColumn\"},{\"attributes\":{\"editor\":{\"id\":\"30587\"},\"field\":\"Pool\",\"formatter\":{\"id\":\"30586\"},\"title\":\"Pool\",\"width\":0},\"id\":\"30588\",\"type\":\"TableColumn\"},{\"attributes\":{},\"id\":\"30566\",\"type\":\"StringFormatter\"},{\"attributes\":{\"editor\":{\"id\":\"30572\"},\"field\":\"Hotel_stars\",\"formatter\":{\"id\":\"30571\"},\"title\":\"Hotel_stars\",\"width\":0},\"id\":\"30573\",\"type\":\"TableColumn\"}],\"root_ids\":[\"30550\",\"30624\"]},\"title\":\"Bokeh Application\",\"version\":\"2.4.1\"}};\n",
       "    var render_items = [{\"docid\":\"5f2a28c9-5fc9-4089-98bf-4f1eb367ba8b\",\"root_ids\":[\"30550\"],\"roots\":{\"30550\":\"1cf3e70e-1c15-4404-acbe-2185ecbd67f7\"}}];\n",
       "    root.Bokeh.embed.embed_items_notebook(docs_json, render_items);\n",
       "    for (const render_item of render_items) {\n",
       "      for (const root_id of render_item.root_ids) {\n",
       "\tconst id_el = document.getElementById(root_id)\n",
       "\tif (id_el.children.length && (id_el.children[0].className === 'bk-root')) {\n",
       "\t  const root_el = id_el.children[0]\n",
       "\t  root_el.id = root_el.id + '-rendered'\n",
       "\t}\n",
       "      }\n",
       "    }\n",
       "  }\n",
       "  if (root.Bokeh !== undefined && root.Bokeh.Panel !== undefined && ( root['Tabulator'] !== undefined) && ( root['Tabulator'] !== undefined) && ( root['Tabulator'] !== undefined) && ( root['Tabulator'] !== undefined) && ( root['Tabulator'] !== undefined) && ( root['Tabulator'] !== undefined) && ( root['Tabulator'] !== undefined) && ( root['Tabulator'] !== undefined) && ( root['Tabulator'] !== undefined) && ( root['Tabulator'] !== undefined) && ( root['Tabulator'] !== undefined)) {\n",
       "    embed_document(root);\n",
       "  } else {\n",
       "    var attempts = 0;\n",
       "    var timer = setInterval(function(root) {\n",
       "      if (root.Bokeh !== undefined && root.Bokeh.Panel !== undefined && (root['Tabulator'] !== undefined) && (root['Tabulator'] !== undefined) && (root['Tabulator'] !== undefined) && (root['Tabulator'] !== undefined) && (root['Tabulator'] !== undefined) && (root['Tabulator'] !== undefined) && (root['Tabulator'] !== undefined) && (root['Tabulator'] !== undefined) && (root['Tabulator'] !== undefined) && (root['Tabulator'] !== undefined) && (root['Tabulator'] !== undefined)) {\n",
       "        clearInterval(timer);\n",
       "        embed_document(root);\n",
       "      } else if (document.readyState == \"complete\") {\n",
       "        attempts++;\n",
       "        if (attempts > 200) {\n",
       "          clearInterval(timer);\n",
       "          console.log(\"Bokeh: ERROR: Unable to run BokehJS code because BokehJS library is missing\");\n",
       "        }\n",
       "      }\n",
       "    }, 25, root)\n",
       "  }\n",
       "})(window);</script>"
      ],
      "text/plain": [
       "<hvplot.interactive.Interactive at 0x1e6704de3d0>"
      ]
     },
     "execution_count": 139,
     "metadata": {
      "application/vnd.holoviews_exec.v0+json": {
       "id": "30550"
      }
     },
     "output_type": "execute_result"
    }
   ],
   "source": [
    "# Radio buttons for Score\n",
    "yaxis_Score = pn.widgets.RadioButtonGroup(\n",
    "    name='Y axis', \n",
    "    options=['Score'],\n",
    "    button_type='success'\n",
    ")\n",
    "yaxis_stars\n",
    "\n",
    "# Connect data pipeline to widgets.\n",
    "\n",
    "hotels_pipeline_features = (\n",
    "    df[\n",
    "        (df.Hotel_name == hotels)\n",
    "    ]\n",
    "    .groupby(['Hotel_name','Hotel_stars','Number_of_rooms','Tennis_court','Pool','Gym','Spa','Casino','Free_internet'])[yaxis_Score].mean()\n",
    "     .to_frame()\n",
    "     .reset_index()  \n",
    "     .reset_index(drop=True)\n",
    " )\n",
    "hotels_pipeline_features\n",
    "\n",
    "hotels_table = hotels_pipeline_features.pipe(pn.widgets.Tabulator, pagination='remote', page_size = 10, sizing_mode='stretch_width') \n",
    "hotels_table"
   ]
  },
  {
   "cell_type": "code",
   "execution_count": 140,
   "id": "b36a49a9",
   "metadata": {},
   "outputs": [
    {
     "data": {},
     "metadata": {},
     "output_type": "display_data"
    },
    {
     "data": {},
     "metadata": {},
     "output_type": "display_data"
    },
    {
     "data": {
      "application/vnd.holoviews_exec.v0+json": "",
      "text/html": [
       "<div id='30635'>\n",
       "\n",
       "\n",
       "\n",
       "\n",
       "\n",
       "  <div class=\"bk-root\" id=\"16826745-62c5-41ea-a8ec-8e8d2101bae6\" data-root-id=\"30635\"></div>\n",
       "</div>\n",
       "<script type=\"application/javascript\">(function(root) {\n",
       "  function embed_document(root) {\n",
       "    var docs_json = {\"df813594-0bbe-46e4-b263-b87b6c3f935f\":{\"defs\":[{\"extends\":null,\"module\":null,\"name\":\"ReactiveHTML1\",\"overrides\":[],\"properties\":[]},{\"extends\":null,\"module\":null,\"name\":\"FlexBox1\",\"overrides\":[],\"properties\":[{\"default\":\"flex-start\",\"kind\":null,\"name\":\"align_content\"},{\"default\":\"flex-start\",\"kind\":null,\"name\":\"align_items\"},{\"default\":\"row\",\"kind\":null,\"name\":\"flex_direction\"},{\"default\":\"wrap\",\"kind\":null,\"name\":\"flex_wrap\"},{\"default\":\"flex-start\",\"kind\":null,\"name\":\"justify_content\"}]},{\"extends\":null,\"module\":null,\"name\":\"GridStack1\",\"overrides\":[],\"properties\":[{\"default\":\"warn\",\"kind\":null,\"name\":\"mode\"},{\"default\":null,\"kind\":null,\"name\":\"ncols\"},{\"default\":null,\"kind\":null,\"name\":\"nrows\"},{\"default\":true,\"kind\":null,\"name\":\"allow_resize\"},{\"default\":true,\"kind\":null,\"name\":\"allow_drag\"},{\"default\":[],\"kind\":null,\"name\":\"state\"}]},{\"extends\":null,\"module\":null,\"name\":\"click1\",\"overrides\":[],\"properties\":[{\"default\":\"\",\"kind\":null,\"name\":\"terminal_output\"},{\"default\":\"\",\"kind\":null,\"name\":\"debug_name\"},{\"default\":0,\"kind\":null,\"name\":\"clears\"}]},{\"extends\":null,\"module\":null,\"name\":\"NotificationAreaBase1\",\"overrides\":[],\"properties\":[{\"default\":\"bottom-right\",\"kind\":null,\"name\":\"position\"},{\"default\":0,\"kind\":null,\"name\":\"_clear\"}]},{\"extends\":null,\"module\":null,\"name\":\"NotificationArea1\",\"overrides\":[],\"properties\":[{\"default\":[],\"kind\":null,\"name\":\"notifications\"},{\"default\":\"bottom-right\",\"kind\":null,\"name\":\"position\"},{\"default\":0,\"kind\":null,\"name\":\"_clear\"},{\"default\":[{\"background\":\"#ffc107\",\"icon\":{\"className\":\"fas fa-exclamation-triangle\",\"color\":\"white\",\"tagName\":\"i\"},\"type\":\"warning\"},{\"background\":\"#007bff\",\"icon\":{\"className\":\"fas fa-info-circle\",\"color\":\"white\",\"tagName\":\"i\"},\"type\":\"info\"}],\"kind\":null,\"name\":\"types\"}]},{\"extends\":null,\"module\":null,\"name\":\"Notification\",\"overrides\":[],\"properties\":[{\"default\":null,\"kind\":null,\"name\":\"background\"},{\"default\":3000,\"kind\":null,\"name\":\"duration\"},{\"default\":null,\"kind\":null,\"name\":\"icon\"},{\"default\":\"\",\"kind\":null,\"name\":\"message\"},{\"default\":null,\"kind\":null,\"name\":\"notification_type\"},{\"default\":false,\"kind\":null,\"name\":\"_destroyed\"}]},{\"extends\":null,\"module\":null,\"name\":\"TemplateActions1\",\"overrides\":[],\"properties\":[{\"default\":0,\"kind\":null,\"name\":\"open_modal\"},{\"default\":0,\"kind\":null,\"name\":\"close_modal\"}]},{\"extends\":null,\"module\":null,\"name\":\"MaterialTemplateActions1\",\"overrides\":[],\"properties\":[{\"default\":0,\"kind\":null,\"name\":\"open_modal\"},{\"default\":0,\"kind\":null,\"name\":\"close_modal\"}]}],\"roots\":{\"references\":[{\"attributes\":{},\"id\":\"30654\",\"type\":\"LinearScale\"},{\"attributes\":{\"bottom_units\":\"screen\",\"coordinates\":null,\"fill_alpha\":0.5,\"fill_color\":\"lightgrey\",\"group\":null,\"left_units\":\"screen\",\"level\":\"overlay\",\"line_alpha\":1.0,\"line_color\":\"black\",\"line_dash\":[4,4],\"line_width\":2,\"right_units\":\"screen\",\"syncable\":false,\"top_units\":\"screen\"},\"id\":\"30667\",\"type\":\"BoxAnnotation\"},{\"attributes\":{},\"id\":\"30663\",\"type\":\"PanTool\"},{\"attributes\":{\"fill_color\":{\"value\":\"#30a2da\"},\"hatch_color\":{\"value\":\"#30a2da\"},\"tags\":[\"apply_ranges\"],\"top\":{\"field\":\"Number_of_rooms\"},\"width\":{\"value\":0.8},\"x\":{\"field\":\"User_country\"}},\"id\":\"30678\",\"type\":\"VBar\"},{\"attributes\":{\"coordinates\":null,\"group\":null,\"text\":\"Hotel usage based on Country\",\"text_color\":\"black\",\"text_font_size\":\"12pt\"},\"id\":\"30647\",\"type\":\"Title\"},{\"attributes\":{\"coordinates\":null,\"data_source\":{\"id\":\"30675\"},\"glyph\":{\"id\":\"30678\"},\"group\":null,\"hover_glyph\":null,\"muted_glyph\":{\"id\":\"30680\"},\"nonselection_glyph\":{\"id\":\"30679\"},\"selection_glyph\":{\"id\":\"30683\"},\"view\":{\"id\":\"30682\"}},\"id\":\"30681\",\"type\":\"GlyphRenderer\"},{\"attributes\":{\"children\":[{\"id\":\"30638\"},{\"id\":\"30640\"}],\"margin\":[0,0,0,0],\"name\":\"Row38617\"},\"id\":\"30637\",\"type\":\"Row\"},{\"attributes\":{\"source\":{\"id\":\"30675\"}},\"id\":\"30682\",\"type\":\"CDSView\"},{\"attributes\":{\"active_drag\":{\"id\":\"30663\"},\"active_scroll\":{\"id\":\"30664\"},\"tools\":[{\"id\":\"30645\"},{\"id\":\"30662\"},{\"id\":\"30663\"},{\"id\":\"30664\"},{\"id\":\"30665\"},{\"id\":\"30666\"}]},\"id\":\"30668\",\"type\":\"Toolbar\"},{\"attributes\":{\"children\":[{\"id\":\"30636\"}],\"margin\":[0,0,0,0],\"name\":\"Row38624\"},\"id\":\"30635\",\"type\":\"Row\"},{\"attributes\":{\"axis_label\":\"User_country\",\"coordinates\":null,\"formatter\":{\"id\":\"30685\"},\"group\":null,\"major_label_policy\":{\"id\":\"30686\"},\"ticker\":{\"id\":\"30656\"}},\"id\":\"30655\",\"type\":\"CategoricalAxis\"},{\"attributes\":{},\"id\":\"30664\",\"type\":\"WheelZoomTool\"},{\"attributes\":{},\"id\":\"30659\",\"type\":\"BasicTicker\"},{\"attributes\":{\"fill_alpha\":{\"value\":0.2},\"fill_color\":{\"value\":\"#30a2da\"},\"hatch_alpha\":{\"value\":0.2},\"hatch_color\":{\"value\":\"#30a2da\"},\"line_alpha\":{\"value\":0.2},\"tags\":[\"apply_ranges\"],\"top\":{\"field\":\"Number_of_rooms\"},\"width\":{\"value\":0.8},\"x\":{\"field\":\"User_country\"}},\"id\":\"30680\",\"type\":\"VBar\"},{\"attributes\":{\"children\":[{\"id\":\"30637\"},{\"id\":\"30646\"}],\"margin\":[0,0,0,0],\"name\":\"Column38623\"},\"id\":\"30636\",\"type\":\"Column\"},{\"attributes\":{\"client_comm_id\":\"264bf83f13864e48aaf0b609023705cb\",\"comm_id\":\"4bd094a99f784651ace1868eca708840\",\"plot_id\":\"30635\"},\"id\":\"30734\",\"type\":\"panel.models.comm_manager.CommManager\"},{\"attributes\":{\"bottom\":{\"value\":0},\"fill_alpha\":{\"value\":1.0},\"fill_color\":{\"value\":\"#30a2da\"},\"hatch_alpha\":{\"value\":1.0},\"hatch_color\":{\"value\":\"#30a2da\"},\"hatch_scale\":{\"value\":12.0},\"hatch_weight\":{\"value\":1.0},\"line_alpha\":{\"value\":1.0},\"line_cap\":{\"value\":\"butt\"},\"line_color\":{\"value\":\"black\"},\"line_dash\":{\"value\":[]},\"line_dash_offset\":{\"value\":0},\"line_join\":{\"value\":\"bevel\"},\"line_width\":{\"value\":1},\"tags\":[\"apply_ranges\"],\"top\":{\"field\":\"Number_of_rooms\"},\"width\":{\"value\":0.8},\"x\":{\"field\":\"User_country\"}},\"id\":\"30683\",\"type\":\"VBar\"},{\"attributes\":{},\"id\":\"30662\",\"type\":\"SaveTool\"},{\"attributes\":{\"end\":10.9,\"reset_end\":10.9,\"reset_start\":0.0,\"tags\":[[[\"Number_of_rooms\",\"Number_of_rooms\",null]],{\"autorange\":false,\"invert_yaxis\":false}]},\"id\":\"30642\",\"type\":\"Range1d\"},{\"attributes\":{},\"id\":\"30686\",\"type\":\"AllLabels\"},{\"attributes\":{},\"id\":\"30676\",\"type\":\"Selection\"},{\"attributes\":{\"axis\":{\"id\":\"30655\"},\"coordinates\":null,\"grid_line_color\":null,\"group\":null,\"ticker\":null},\"id\":\"30657\",\"type\":\"Grid\"},{\"attributes\":{\"axis\":{\"id\":\"30658\"},\"coordinates\":null,\"dimension\":1,\"grid_line_color\":null,\"group\":null,\"ticker\":null},\"id\":\"30661\",\"type\":\"Grid\"},{\"attributes\":{\"factors\":[\"Australia\",\"Canada\",\"India\",\"New Zeland\",\"UK\",\"USA\"],\"tags\":[[[\"User_country\",\"User_country\",null]],[]]},\"id\":\"30641\",\"type\":\"FactorRange\"},{\"attributes\":{},\"id\":\"30653\",\"type\":\"CategoricalScale\"},{\"attributes\":{},\"id\":\"30689\",\"type\":\"AllLabels\"},{\"attributes\":{},\"id\":\"30685\",\"type\":\"CategoricalTickFormatter\"},{\"attributes\":{\"margin\":[5,10,5,10],\"options\":[\"Circus Circus Hotel & Casino Las Vegas\",\"Excalibur Hotel & Casino\",\"Monte Carlo Resort&Casino\",\"Treasure Island- TI Hotel & Casino\",\"Tropicana Las Vegas - A Double Tree by Hilton Hotel\",\"Caesars Palace\",\"The Cosmopolitan Las Vegas\",\"The Palazzo Resort Hotel Casino\",\"Wynn Las Vegas\",\"Trump International Hotel Las Vegas\",\"The Cromwell\",\"Encore at wynn Las Vegas\",\"Hilton Grand Vacations on the Boulevard\",\"Marriott's Grand Chateau\",\"Tuscany Las Vegas Suites & Casino\",\"Hilton Grand Vacations at the Flamingo\",\"Wyndham Grand Desert\",\"The Venetian Las Vegas Hotel\",\"Bellagio Las Vegas\",\"Paris Las Vegas\",\"The Westin las Vegas Hotel Casino & Spa\"],\"title\":\"Hotels\",\"value\":\"Circus Circus Hotel & Casino Las Vegas\"},\"id\":\"30639\",\"type\":\"panel.models.widgets.CustomSelect\"},{\"attributes\":{\"margin\":[5,5,5,5],\"name\":\"HSpacer38616\",\"sizing_mode\":\"stretch_width\"},\"id\":\"30640\",\"type\":\"Spacer\"},{\"attributes\":{\"axis_label\":\"Usage\",\"coordinates\":null,\"formatter\":{\"id\":\"30688\"},\"group\":null,\"major_label_policy\":{\"id\":\"30689\"},\"ticker\":{\"id\":\"30659\"}},\"id\":\"30658\",\"type\":\"LinearAxis\"},{\"attributes\":{},\"id\":\"30656\",\"type\":\"CategoricalTicker\"},{\"attributes\":{\"children\":[{\"id\":\"30639\"}],\"margin\":[0,0,0,0],\"name\":\"Column38612\"},\"id\":\"30638\",\"type\":\"Column\"},{\"attributes\":{},\"id\":\"30666\",\"type\":\"ResetTool\"},{\"attributes\":{\"callback\":null,\"renderers\":[{\"id\":\"30681\"}],\"tags\":[\"hv_created\"],\"tooltips\":[[\"User_country\",\"@{User_country}\"],[\"Number_of_rooms\",\"@{Number_of_rooms}\"]]},\"id\":\"30645\",\"type\":\"HoverTool\"},{\"attributes\":{\"fill_alpha\":{\"value\":0.1},\"fill_color\":{\"value\":\"#30a2da\"},\"hatch_alpha\":{\"value\":0.1},\"hatch_color\":{\"value\":\"#30a2da\"},\"line_alpha\":{\"value\":0.1},\"tags\":[\"apply_ranges\"],\"top\":{\"field\":\"Number_of_rooms\"},\"width\":{\"value\":0.8},\"x\":{\"field\":\"User_country\"}},\"id\":\"30679\",\"type\":\"VBar\"},{\"attributes\":{\"data\":{\"Number_of_rooms\":[1,5,1,2,5,10],\"User_country\":[\"Australia\",\"Canada\",\"India\",\"New Zeland\",\"UK\",\"USA\"]},\"selected\":{\"id\":\"30676\"},\"selection_policy\":{\"id\":\"30701\"}},\"id\":\"30675\",\"type\":\"ColumnDataSource\"},{\"attributes\":{},\"id\":\"30688\",\"type\":\"BasicTickFormatter\"},{\"attributes\":{\"below\":[{\"id\":\"30655\"}],\"center\":[{\"id\":\"30657\"},{\"id\":\"30661\"}],\"height\":300,\"left\":[{\"id\":\"30658\"}],\"margin\":[5,5,5,5],\"min_border_bottom\":10,\"min_border_left\":10,\"min_border_right\":10,\"min_border_top\":10,\"output_backend\":\"webgl\",\"renderers\":[{\"id\":\"30681\"}],\"sizing_mode\":\"fixed\",\"title\":{\"id\":\"30647\"},\"toolbar\":{\"id\":\"30668\"},\"width\":700,\"x_range\":{\"id\":\"30641\"},\"x_scale\":{\"id\":\"30653\"},\"y_range\":{\"id\":\"30642\"},\"y_scale\":{\"id\":\"30654\"}},\"id\":\"30646\",\"subtype\":\"Figure\",\"type\":\"Plot\"},{\"attributes\":{},\"id\":\"30701\",\"type\":\"UnionRenderers\"},{\"attributes\":{\"overlay\":{\"id\":\"30667\"}},\"id\":\"30665\",\"type\":\"BoxZoomTool\"}],\"root_ids\":[\"30635\",\"30734\"]},\"title\":\"Bokeh Application\",\"version\":\"2.4.1\"}};\n",
       "    var render_items = [{\"docid\":\"df813594-0bbe-46e4-b263-b87b6c3f935f\",\"root_ids\":[\"30635\"],\"roots\":{\"30635\":\"16826745-62c5-41ea-a8ec-8e8d2101bae6\"}}];\n",
       "    root.Bokeh.embed.embed_items_notebook(docs_json, render_items);\n",
       "    for (const render_item of render_items) {\n",
       "      for (const root_id of render_item.root_ids) {\n",
       "\tconst id_el = document.getElementById(root_id)\n",
       "\tif (id_el.children.length && (id_el.children[0].className === 'bk-root')) {\n",
       "\t  const root_el = id_el.children[0]\n",
       "\t  root_el.id = root_el.id + '-rendered'\n",
       "\t}\n",
       "      }\n",
       "    }\n",
       "  }\n",
       "  if (root.Bokeh !== undefined && root.Bokeh.Panel !== undefined && ( root['Tabulator'] !== undefined) && ( root['Tabulator'] !== undefined) && ( root['Tabulator'] !== undefined) && ( root['Tabulator'] !== undefined) && ( root['Tabulator'] !== undefined) && ( root['Tabulator'] !== undefined) && ( root['Tabulator'] !== undefined) && ( root['Tabulator'] !== undefined) && ( root['Tabulator'] !== undefined) && ( root['Tabulator'] !== undefined) && ( root['Tabulator'] !== undefined)) {\n",
       "    embed_document(root);\n",
       "  } else {\n",
       "    var attempts = 0;\n",
       "    var timer = setInterval(function(root) {\n",
       "      if (root.Bokeh !== undefined && root.Bokeh.Panel !== undefined && (root['Tabulator'] !== undefined) && (root['Tabulator'] !== undefined) && (root['Tabulator'] !== undefined) && (root['Tabulator'] !== undefined) && (root['Tabulator'] !== undefined) && (root['Tabulator'] !== undefined) && (root['Tabulator'] !== undefined) && (root['Tabulator'] !== undefined) && (root['Tabulator'] !== undefined) && (root['Tabulator'] !== undefined) && (root['Tabulator'] !== undefined)) {\n",
       "        clearInterval(timer);\n",
       "        embed_document(root);\n",
       "      } else if (document.readyState == \"complete\") {\n",
       "        attempts++;\n",
       "        if (attempts > 200) {\n",
       "          clearInterval(timer);\n",
       "          console.log(\"Bokeh: ERROR: Unable to run BokehJS code because BokehJS library is missing\");\n",
       "        }\n",
       "      }\n",
       "    }, 25, root)\n",
       "  }\n",
       "})(window);</script>"
      ],
      "text/plain": [
       "<hvplot.interactive.Interactive at 0x1e6705ecdc0>"
      ]
     },
     "execution_count": 140,
     "metadata": {
      "application/vnd.holoviews_exec.v0+json": {
       "id": "30635"
      }
     },
     "output_type": "execute_result"
    }
   ],
   "source": [
    "# Select widget for User_country\n",
    "\n",
    "ho_stars = data['Hotel_stars'].unique()\n",
    "hotel_stars = pn.widgets.Select(name='Hotel stars', options=[3,4,5])\n",
    "\n",
    "y_axis= data['User_country'].value_counts()\n",
    "\n",
    "hotels_country_pipeline = (\n",
    "    df[\n",
    "        (df.Hotel_name == hotels)\n",
    "    ]\n",
    "       .groupby(['User_country']).count()\n",
    "       .reset_index()\n",
    "       .sort_values(by='User_country')  \n",
    "       .reset_index(drop=True)\n",
    " )\n",
    "hotels_country_pipeline\n",
    "\n",
    "hotels_country_pipeline_bar = hotels_country_pipeline.hvplot(kind='bar', \n",
    "                                                     x='User_country', \n",
    "                                                     y='Number_of_rooms', \n",
    "                                                     title='Hotel usage based on Country',ylabel='Usage')\n",
    "hotels_country_pipeline_bar"
   ]
  },
  {
   "cell_type": "code",
   "execution_count": 141,
   "id": "5e1dfee7",
   "metadata": {},
   "outputs": [
    {
     "name": "stdout",
     "output_type": "stream",
     "text": [
      "Launching server at http://localhost:51489\n"
     ]
    },
    {
     "data": {
      "text/plain": [
       "<panel.io.server.Server at 0x1e6703bf640>"
      ]
     },
     "execution_count": 141,
     "metadata": {},
     "output_type": "execute_result"
    }
   ],
   "source": [
    "# Dashboard\n",
    "template = pn.template.FastListTemplate(\n",
    "    title='Las Vegas Hotels', \n",
    "    sidebar=[pn.pane.Markdown(\"# Las Vegas Hotels\"), \n",
    "             pn.pane.Markdown(\"#### This dashboard is used to know the details of the Las Vegas Hotels.\"), \n",
    "             pn.pane.JPG(\"https://th.bing.com/th/id/OIP.4aa3iz122v2B_TYGDPgDtAHaHa?pid=ImgDet&rs=1\", sizing_mode='scale_both'),\n",
    "             pn.pane.Markdown(\"## Settings\")   \n",
    "             ,hotels],\n",
    "    \n",
    "    main=[pn.Row(pn.Column(hotel_stars,yaxis_stars,hotels_stars_plot.panel(width=700), margin=(0,25))), \n",
    "          pn.Row(pn.Column(hotels_table.panel(width=500))),\n",
    "          pn.Row(pn.Column(hotels_country_pipeline_bar.panel(width=600)))],\n",
    "    accent_base_color=\"#2F4F4F\",\n",
    "    header_background=\"#A01346\",\n",
    ")\n",
    "template.show()\n",
    "#template.servable();"
   ]
  },
  {
   "cell_type": "code",
   "execution_count": null,
   "id": "5df7d32c",
   "metadata": {},
   "outputs": [],
   "source": []
  }
 ],
 "metadata": {
  "kernelspec": {
   "display_name": "Python 3 (ipykernel)",
   "language": "python",
   "name": "python3"
  },
  "language_info": {
   "codemirror_mode": {
    "name": "ipython",
    "version": 3
   },
   "file_extension": ".py",
   "mimetype": "text/x-python",
   "name": "python",
   "nbconvert_exporter": "python",
   "pygments_lexer": "ipython3",
   "version": "3.8.0"
  }
 },
 "nbformat": 4,
 "nbformat_minor": 5
}
